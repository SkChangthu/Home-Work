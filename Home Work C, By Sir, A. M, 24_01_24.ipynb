{
 "cells": [
  {
   "cell_type": "markdown",
   "id": "ef9752cd",
   "metadata": {},
   "source": [
    "# Home Work, \n",
    "## 1. Write a programme to check number is odd or even"
   ]
  },
  {
   "cell_type": "code",
   "execution_count": 1,
   "id": "d4041a10",
   "metadata": {},
   "outputs": [
    {
     "name": "stdout",
     "output_type": "stream",
     "text": [
      "the number is even\n"
     ]
    }
   ],
   "source": [
    "sk=193\n",
    "y=19\n",
    "if sk%y ==0:\n",
    "    print(\"the number is odd\")\n",
    "else:\n",
    "    print(\"the number is even\")"
   ]
  },
  {
   "cell_type": "code",
   "execution_count": 2,
   "id": "61a0da3d",
   "metadata": {},
   "outputs": [
    {
     "name": "stdout",
     "output_type": "stream",
     "text": [
      "the number is even\n"
     ]
    }
   ],
   "source": [
    "sk=193\n",
    "y=2\n",
    "if sk%y ==0:\n",
    "    print(\"the number is odd\")\n",
    "else:\n",
    "    print(\"the number is even\")"
   ]
  },
  {
   "cell_type": "code",
   "execution_count": 3,
   "id": "ebbce1d5",
   "metadata": {},
   "outputs": [
    {
     "name": "stdout",
     "output_type": "stream",
     "text": [
      "the number is odd\n"
     ]
    }
   ],
   "source": [
    "sk=20\n",
    "y=5\n",
    "if sk%y ==0:\n",
    "    print(\"the number is odd\")\n",
    "else:\n",
    "    print(\"the number is even\")"
   ]
  },
  {
   "cell_type": "markdown",
   "id": "c947161f",
   "metadata": {},
   "source": [
    "# 2. Write a programme a check a nimber is eligable for voting or not."
   ]
  },
  {
   "cell_type": "code",
   "execution_count": 4,
   "id": "1e667c95",
   "metadata": {},
   "outputs": [
    {
     "name": "stdout",
     "output_type": "stream",
     "text": [
      "sahil is eligable for voting sahil\n"
     ]
    }
   ],
   "source": [
    "sahil=18\n",
    "if sahil >=18:\n",
    "    print(\"sahil is eligable for voting sahil\")\n",
    "else:\n",
    "    print(\"sahil is or not eligable voting sahil\")"
   ]
  },
  {
   "cell_type": "markdown",
   "id": "0969f63b",
   "metadata": {},
   "source": [
    "# 3. Write a programme a check a number  is divisible by 3 or not."
   ]
  },
  {
   "cell_type": "code",
   "execution_count": 5,
   "id": "a340fdfd",
   "metadata": {},
   "outputs": [
    {
     "name": "stdout",
     "output_type": "stream",
     "text": [
      "the number isn't dovisible by 3\n"
     ]
    }
   ],
   "source": [
    "x=19\n",
    "y=3\n",
    "if x%y ==0:\n",
    "    print(\"the nubmer is divisibe by 3\")\n",
    "else:\n",
    "    print(\"the number isn't dovisible by 3\")"
   ]
  },
  {
   "cell_type": "code",
   "execution_count": 6,
   "id": "3345f4b5",
   "metadata": {},
   "outputs": [
    {
     "name": "stdout",
     "output_type": "stream",
     "text": [
      "the nubmer is divisibe by 3\n"
     ]
    }
   ],
   "source": [
    "x=30\n",
    "y=5\n",
    "if x%y ==0:\n",
    "    print(\"the nubmer is divisibe by 3\")\n",
    "else:\n",
    "    print(\"the number isn't dovisible by 3\")"
   ]
  },
  {
   "cell_type": "markdown",
   "id": "17e53afa",
   "metadata": {},
   "source": [
    "# 3. Write a programme a check a number  is divisible by 5 or not."
   ]
  },
  {
   "cell_type": "code",
   "execution_count": 7,
   "id": "01a39f7b",
   "metadata": {},
   "outputs": [
    {
     "name": "stdout",
     "output_type": "stream",
     "text": [
      "the nubmer is divisibe by 5\n"
     ]
    }
   ],
   "source": [
    "x=30\n",
    "y=5\n",
    "if x%y ==0:\n",
    "    print(\"the nubmer is divisibe by 5\")\n",
    "else:\n",
    "    print(\"the number isn't dovisible by 5\")"
   ]
  },
  {
   "cell_type": "code",
   "execution_count": 8,
   "id": "975d2d76",
   "metadata": {},
   "outputs": [
    {
     "name": "stdout",
     "output_type": "stream",
     "text": [
      "the number isn't dovisible by 5\n"
     ]
    }
   ],
   "source": [
    "x=37\n",
    "y=5\n",
    "if x%y ==0:\n",
    "    print(\"the nubmer is divisibe by 5\")\n",
    "else:\n",
    "    print(\"the number isn't dovisible by 5\")"
   ]
  },
  {
   "cell_type": "markdown",
   "id": "8a2a8eb3",
   "metadata": {},
   "source": [
    "# Write python code that ask the user for there letter grade. Point the Grade point based on the table.\n",
    "### Letter   Grade Point\n",
    "    A+      4.3\n",
    "    \n",
    "    A        4\n",
    "    \n",
    "    A-      3.7\n",
    "    \n",
    "    B+      3.5\n",
    "    \n",
    "    B      3.0\n",
    "    \n",
    "    B-     2.7\n",
    "    \n",
    "    C+      2.3  \n",
    "    \n",
    "    C       2 \n",
    "    \n",
    "    D+      1.3\n",
    "    \n",
    "    F        0"
   ]
  },
  {
   "cell_type": "code",
   "execution_count": 9,
   "id": "becbc051",
   "metadata": {},
   "outputs": [
    {
     "name": "stdout",
     "output_type": "stream",
     "text": [
      "give your grade pint number3.9\n",
      "your gread point is A\n"
     ]
    }
   ],
   "source": [
    "sk=float(input(\"give your grade pint number\"))\n",
    "\n",
    "if sk == 0:\n",
    "    print(\"your gread is F\")\n",
    "elif sk <=1.3:\n",
    "    print(\"your gread is D+\")\n",
    "elif sk <=2:\n",
    "    print(\"your gread point is C\")\n",
    "elif sk <=2.3:\n",
    "    print(\"your gread point is C+\")\n",
    "elif sk <=2.7:\n",
    "    print(\"your gread point is B-\")\n",
    "elif sk <=3:\n",
    "    print(\"your gread point is B\")\n",
    "elif sk <= 3.3:\n",
    "    print(\"your gread point is B+\")\n",
    "elif sk <= 3.7:\n",
    "    print(\"your gread point is A-\")\n",
    "elif sk <= 4:\n",
    "    print(\"your gread point is A\")\n",
    "elif sk <= 4.3:\n",
    "    print(\"your gread point is A+\")"
   ]
  },
  {
   "cell_type": "code",
   "execution_count": null,
   "id": "675eea59",
   "metadata": {},
   "outputs": [],
   "source": []
  }
 ],
 "metadata": {
  "kernelspec": {
   "display_name": "Python 3 (ipykernel)",
   "language": "python",
   "name": "python3"
  },
  "language_info": {
   "codemirror_mode": {
    "name": "ipython",
    "version": 3
   },
   "file_extension": ".py",
   "mimetype": "text/x-python",
   "name": "python",
   "nbconvert_exporter": "python",
   "pygments_lexer": "ipython3",
   "version": "3.11.5"
  }
 },
 "nbformat": 4,
 "nbformat_minor": 5
}
